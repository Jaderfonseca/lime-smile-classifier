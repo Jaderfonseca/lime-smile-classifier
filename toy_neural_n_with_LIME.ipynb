{
  "nbformat": 4,
  "nbformat_minor": 0,
  "metadata": {
    "colab": {
      "provenance": [],
      "authorship_tag": "ABX9TyMpHlfmhl2jFO+i3HNHtE4V",
      "include_colab_link": true
    },
    "kernelspec": {
      "name": "python3",
      "display_name": "Python 3"
    },
    "language_info": {
      "name": "python"
    }
  },
  "cells": [
    {
      "cell_type": "markdown",
      "metadata": {
        "id": "view-in-github",
        "colab_type": "text"
      },
      "source": [
        "<a href=\"https://colab.research.google.com/github/Jaderfonseca/lime-smile-classifier/blob/main/toy_neural_n_with_LIME.ipynb\" target=\"_parent\"><img src=\"https://colab.research.google.com/assets/colab-badge.svg\" alt=\"Open In Colab\"/></a>"
      ]
    },
    {
      "cell_type": "code",
      "source": [
        "%reset -f"
      ],
      "metadata": {
        "id": "5WrPMBN_faz3"
      },
      "execution_count": 11,
      "outputs": []
    },
    {
      "cell_type": "code",
      "source": [
        "!rm -fr data/raw"
      ],
      "metadata": {
        "id": "Q7h-_5kOfktz"
      },
      "execution_count": 12,
      "outputs": []
    },
    {
      "cell_type": "code",
      "source": [
        "from PIL import Image, ImageDraw, ImageFilter\n",
        "import numpy as np, random, math\n",
        "\n",
        "# --- Mouth as parabola: robust and unambiguous ---\n",
        "def draw_mouth_parabola(drw, cx, y0, w, h, label, fg=0, width=2):\n",
        "\"\"\"\n",
        "cx, y0 : mouth center (x) and baseline (y)\n",
        "w, h : width and depth of the curve\n",
        "label : 'smile' -> ∪ ; 'not_smile' -> ∩\n",
        "\"\"\"\n",
        "s = -1 if label == \"smile\" else +1 # ∪ for smile, ∩ for not_smile\n",
        "tilt = random.uniform(-0.06, 0.06) # small tilt\n",
        "\n",
        "xs = np.linspace(-w/2, w/2, 45)\n",
        "pts = []\n",
        "for x in xs:\n",
        "y = y0 + s * ((x/(w/2))**2) * h\n",
        "xr = x*math.cos(tilt) - (y-y0)*math.sin(tilt)\n",
        "yr = (x*math.sin(tilt) + (y-y0)*math.cos(tilt)) + y0\n",
        "pts.append((cx + xr, yr))\n",
        "\n",
        "drw.line(pts, fill=fg, width=width)\n",
        "\n",
        "def draw_face(label=\"smile\", IMG_SIZE=32, add_noise_p=0.15, noise_sigma_choices=(0,2,4)):\n",
        "\"\"\"\n",
        "Generates a 32x32 grayscale artificial face.\n",
        "label: 'smile' or 'not_smile' (controls mouth curvature).\n",
        "\"\"\"\n",
        "W = H = IMG_SIZE\n",
        "bg, fg = 255, 0\n",
        "img = Image.new(\"L\", (W, H), color=bg)\n",
        "drw = ImageDraw.Draw(img)\n",
        "\n",
        "# face outline (circle)\n",
        "r = random.randint(int(W*0.34), int(W*0.42))\n",
        "cx = random.randint(int(W*0.48), int(W*0.52))\n",
        "cy = random.randint(int(H*0.45), int(H*0.52))\n",
        "drw.ellipse([cx-r, cy-r, cx+r, cy+r], outline=fg, width=2)\n",
        "\n",
        "# eyes\n",
        "eye_r = random.randint(2, 3)\n",
        "dx = random.randint(int(W*0.06), int(W*0.10))\n",
        "dy = random.randint(int(H*0.04), int(H*0.06))\n",
        "left_eye = (cx - dx, cy - dy)\n",
        "right_eye = (cx + dx, cy - dy)\n",
        "drw.ellipse([left_eye[0]-eye_r, left_eye[1]-eye_r, left_eye[0]+eye_r, left_eye[1]+eye_r], fill=fg)\n",
        "drw.ellipse([right_eye[0]-eye_r, right_eye[1]-eye_r, right_eye[0]+eye_r, right_eye[1]+eye_r], fill=fg)\n",
        "\n",
        "# mouth (parabola)\n",
        "mouth_w = random.randint(int(W*0.52), int(W*0.66))\n",
        "mouth_h = random.randint(int(H*0.06), int(H*0.12))\n",
        "mouth_y = random.randint(int(H*0.63), int(H*0.68))\n",
        "draw_mouth_parabola(drw, cx, mouth_y, mouth_w, mouth_h, label, fg=fg, width=random.randint(2,3))\n",
        "\n",
        "# light noise after drawing everything\n",
        "if random.random() < add_noise_p:\n",
        "img = img.filter(ImageFilter.GaussianBlur(radius=0.4))\n",
        "sigma = random.choice(noise_sigma_choices)\n",
        "if sigma > 0:\n",
        "arr = np.array(img, dtype=np.int16)\n",
        "arr = np.clip(arr + np.random.normal(0, sigma, arr.shape), 0, 255).astype(np.uint8)\n",
        "img = Image.fromarray(arr, mode=\"L\")\n",
        "\n",
        "return img"
      ],
      "metadata": {
        "colab": {
          "base_uri": "https://localhost:8080/",
          "height": 105
        },
        "id": "YlHFw8PXfw6X",
        "outputId": "95386e44-93b9-4ce2-ec3f-b9d026934a65"
      },
      "execution_count": 13,
      "outputs": [
        {
          "output_type": "error",
          "ename": "IndentationError",
          "evalue": "expected an indented block after function definition on line 5 (ipython-input-84152896.py, line 6)",
          "traceback": [
            "\u001b[0;36m  File \u001b[0;32m\"/tmp/ipython-input-84152896.py\"\u001b[0;36m, line \u001b[0;32m6\u001b[0m\n\u001b[0;31m    \"\"\"\u001b[0m\n\u001b[0m    ^\u001b[0m\n\u001b[0;31mIndentationError\u001b[0m\u001b[0;31m:\u001b[0m expected an indented block after function definition on line 5\n"
          ]
        }
      ]
    }
  ]
}